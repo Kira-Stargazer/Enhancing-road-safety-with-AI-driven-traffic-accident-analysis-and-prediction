{
  "nbformat": 4,
  "nbformat_minor": 0,
  "metadata": {
    "colab": {
      "provenance": [],
      "authorship_tag": "ABX9TyOm7qJW5xhI5Yb2WiLZOF/h",
      "include_colab_link": true
    },
    "kernelspec": {
      "name": "python3",
      "display_name": "Python 3"
    },
    "language_info": {
      "name": "python"
    }
  },
  "cells": [
    {
      "cell_type": "markdown",
      "metadata": {
        "id": "view-in-github",
        "colab_type": "text"
      },
      "source": [
        "<a href=\"https://colab.research.google.com/github/Kira-Stargazer/Enhancing-road-safety-with-AI-driven-traffic-accident-analysis-and-prediction/blob/main/Enhancing_road_safety_with_AI_driven_traffic_accident_analysis_and_prediction_py.ipynb\" target=\"_parent\"><img src=\"https://colab.research.google.com/assets/colab-badge.svg\" alt=\"Open In Colab\"/></a>"
      ]
    },
    {
      "cell_type": "code",
      "source": [
        "# Cell 1: Imports\n",
        "import nbformat\n",
        "import os  # Import the os module for file system operations\n",
        "\n",
        "# Check if the file exists before attempting to open it\n",
        "if os.path.exists(\"Traffic_Accident_Prediction.ipynb\"):\n",
        "    nb = nbformat.read(\"Traffic_Accident_Prediction.ipynb\", as_version=nbformat.NO_CONVERT)\n",
        "    for cell in nb.cells:\n",
        "        if 'metadata' in cell and 'widgets' in cell['metadata']:\n",
        "            del cell['metadata']['widgets']\n",
        "    nbformat.write(nb, \"Traffic_Accident_Prediction_cleaned.ipynb\")\n",
        "else:\n",
        "    print(\"File 'Traffic_Accident_Prediction.ipynb' not found. Please ensure the file exists and is in the correct directory.\")\n",
        "\n",
        "import pandas as pd\n",
        "import numpy as np\n",
        "import matplotlib.pyplot as plt\n",
        "import seaborn as sns\n",
        "from sklearn.model_selection import train_test_split\n",
        "from sklearn.ensemble import RandomForestClassifier\n",
        "from sklearn.metrics import classification_report, accuracy_score\n",
        "\n",
        "# Cell 2: Simulate a large dataset\n",
        "np.random.seed(42)\n",
        "N = 50000  # Large dataset\n",
        "data = {\n",
        "    \"Severity\": np.random.choice([1, 2, 3, 4], N),\n",
        "    \"Temperature(F)\": np.random.uniform(20, 100, N),\n",
        "    \"Humidity(%)\": np.random.uniform(10, 100, N),\n",
        "    \"Visibility(mi)\": np.random.uniform(0.5, 10, N),\n",
        "    \"Wind_Speed(mph)\": np.random.uniform(0, 30, N),\n",
        "    \"Precipitation(in)\": np.random.uniform(0, 2, N),\n",
        "    \"Weather_Condition\": np.random.choice([\"Clear\", \"Rain\", \"Snow\", \"Fog\", \"Cloudy\"], N),\n",
        "}\n",
        "\n",
        "df = pd.DataFrame(data)\n",
        "\n",
        "# Cell 3: Preprocessing\n",
        "df[\"Weather_Condition\"] = df[\"Weather_Condition\"].astype(\"category\").cat.codes\n",
        "\n",
        "features = df.drop(\"Severity\", axis=1)\n",
        "target = df[\"Severity\"]\n",
        "\n",
        "X_train, X_test, y_train, y_test = train_test_split(features, target, test_size=0.3, random_state=42)\n",
        "\n",
        "# Cell 4: Train Model\n",
        "model = RandomForestClassifier(n_estimators=100, random_state=42)\n",
        "model.fit(X_train, y_train)\n",
        "y_pred = model.predict(X_test)\n",
        "\n",
        "# Cell 5: Evaluation\n",
        "print(\"Accuracy:\", accuracy_score(y_test, y_pred))\n",
        "print(\"\\nClassification Report:\\n\", classification_report(y_test, y_pred))\n",
        "\n",
        "# Cell 6: Plot\n",
        "plt.figure(figsize=(8, 5))\n",
        "sns.countplot(x=\"Severity\", data=df)\n",
        "plt.title(\"Severity Distribution\")\n",
        "plt.show()"
      ],
      "metadata": {
        "colab": {
          "base_uri": "https://localhost:8080/",
          "height": 747
        },
        "id": "vHy8Aly_xEzU",
        "outputId": "0a0c65b2-9981-4c23-e42b-98581aaf610f"
      },
      "execution_count": 17,
      "outputs": [
        {
          "output_type": "stream",
          "name": "stdout",
          "text": [
            "File 'Traffic_Accident_Prediction.ipynb' not found. Please ensure the file exists and is in the correct directory.\n",
            "Accuracy: 0.2512666666666667\n",
            "\n",
            "Classification Report:\n",
            "               precision    recall  f1-score   support\n",
            "\n",
            "           1       0.26      0.28      0.27      3779\n",
            "           2       0.24      0.25      0.24      3656\n",
            "           3       0.25      0.23      0.24      3793\n",
            "           4       0.26      0.25      0.25      3772\n",
            "\n",
            "    accuracy                           0.25     15000\n",
            "   macro avg       0.25      0.25      0.25     15000\n",
            "weighted avg       0.25      0.25      0.25     15000\n",
            "\n"
          ]
        },
        {
          "output_type": "display_data",
          "data": {
            "text/plain": [
              "<Figure size 800x500 with 1 Axes>"
            ],
            "image/png": "[encoded data removed]"
          },
          "metadata": {}
        }
      ]
    }
  ]
}